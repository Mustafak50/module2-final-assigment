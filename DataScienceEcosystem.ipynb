{
 "cells": [
  {
   "cell_type": "markdown",
   "id": "9e794f08-9d6d-4b39-bcfe-1bf3d716d0df",
   "metadata": {},
   "source": [
    "# Data Science Tools and Ecosystem"
   ]
  },
  {
   "cell_type": "markdown",
   "id": "d64b0dce-fc86-4d2c-95b2-6f25aff0d524",
   "metadata": {},
   "source": [
    "In this notebook, I will make the final assigment"
   ]
  },
  {
   "cell_type": "markdown",
   "id": "dd83987d-6e3a-4239-b909-e99630a2ddb6",
   "metadata": {},
   "source": [
    "**Objective:** \n",
    "+ R\n",
    "+ Python\n",
    "+ jupyter\n",
    "+ github\n",
    "+ 10exercise"
   ]
  },
  {
   "cell_type": "markdown",
   "id": "9f1e6ecb-0f81-4761-b796-5fd838035098",
   "metadata": {},
   "source": [
    "Some of the popular langueges:"
   ]
  },
  {
   "cell_type": "markdown",
   "id": "843dfc9b-d50c-4617-ba85-c1eae3321c7e",
   "metadata": {},
   "source": [
    "1. Python\n",
    "2. R\n",
    "3. Java"
   ]
  },
  {
   "cell_type": "markdown",
   "id": "6e43cf07-60c3-4e78-ba43-edbadb047c08",
   "metadata": {},
   "source": [
    "some of commonly used libraries:"
   ]
  },
  {
   "cell_type": "markdown",
   "id": "7a6ed1b8-4353-4951-bf4f-a4070e5e69b8",
   "metadata": {},
   "source": [
    "1. ggplot\n",
    "2. Xxx\n",
    "3. Yy"
   ]
  },
  {
   "cell_type": "markdown",
   "id": "8dfbb9ac-5c88-4c1b-9dcc-c4071a423d1c",
   "metadata": {},
   "source": [
    "Data Science Tools\n",
    "---|\n",
    "Github\n",
    "R\n",
    "Jupyter"
   ]
  },
  {
   "cell_type": "markdown",
   "id": "cb30e6e7-0a57-44f5-b68f-743c0f7cbaaf",
   "metadata": {},
   "source": [
    "### Below are a few examples of evaluating arithmetic exprssions in Python."
   ]
  },
  {
   "cell_type": "code",
   "execution_count": 8,
   "id": "51e30874-381f-4646-8f7a-0f674656f1ce",
   "metadata": {},
   "outputs": [],
   "source": [
    "#this a simple atihmetic expression to multiply then add integers"
   ]
  },
  {
   "cell_type": "code",
   "execution_count": 9,
   "id": "bf87ec37-8332-4780-80df-4a46a7c5ee1c",
   "metadata": {},
   "outputs": [
    {
     "data": {
      "text/plain": [
       "17"
      ]
     },
     "execution_count": 9,
     "metadata": {},
     "output_type": "execute_result"
    }
   ],
   "source": [
    "(3*4)+5"
   ]
  },
  {
   "cell_type": "code",
   "execution_count": 10,
   "id": "e8e2d05e-8838-4078-ad00-c0026c900a70",
   "metadata": {},
   "outputs": [
    {
     "data": {
      "text/plain": [
       "3.3333333333333335"
      ]
     },
     "execution_count": 10,
     "metadata": {},
     "output_type": "execute_result"
    }
   ],
   "source": [
    "200/60"
   ]
  },
  {
   "cell_type": "markdown",
   "id": "00755f08-0158-4038-a2bb-0bb015146017",
   "metadata": {},
   "source": [
    "## Author"
   ]
  },
  {
   "cell_type": "markdown",
   "id": "b3545c8c-8601-4ba6-88e7-bbab4a736b2b",
   "metadata": {},
   "source": [
    "Mustafa"
   ]
  },
  {
   "cell_type": "code",
   "execution_count": null,
   "id": "39d727e3-496d-44bf-a09b-4896ad74a469",
   "metadata": {},
   "outputs": [],
   "source": []
  }
 ],
 "metadata": {
  "kernelspec": {
   "display_name": "Python 3 (ipykernel)",
   "language": "python",
   "name": "python3"
  },
  "language_info": {
   "codemirror_mode": {
    "name": "ipython",
    "version": 3
   },
   "file_extension": ".py",
   "mimetype": "text/x-python",
   "name": "python",
   "nbconvert_exporter": "python",
   "pygments_lexer": "ipython3",
   "version": "3.12.7"
  }
 },
 "nbformat": 4,
 "nbformat_minor": 5
}
